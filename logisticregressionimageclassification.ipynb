{
 "cells": [
  {
   "cell_type": "code",
   "execution_count": 2,
   "id": "7e2c6c40",
   "metadata": {},
   "outputs": [],
   "source": [
    "import torch\n",
    "import torchvision\n",
    "from torchvision.datasets import MNIST"
   ]
  },
  {
   "cell_type": "code",
   "execution_count": 4,
   "id": "2c607476",
   "metadata": {},
   "outputs": [],
   "source": [
    "dataset = MNIST(root='data/', download= True)"
   ]
  },
  {
   "cell_type": "code",
   "execution_count": 5,
   "id": "fd2a7135",
   "metadata": {},
   "outputs": [
    {
     "data": {
      "text/plain": [
       "60000"
      ]
     },
     "execution_count": 5,
     "metadata": {},
     "output_type": "execute_result"
    }
   ],
   "source": [
    "len(dataset)"
   ]
  },
  {
   "cell_type": "code",
   "execution_count": 6,
   "id": "17952f70",
   "metadata": {},
   "outputs": [
    {
     "data": {
      "text/plain": [
       "10000"
      ]
     },
     "execution_count": 6,
     "metadata": {},
     "output_type": "execute_result"
    }
   ],
   "source": [
    "test_dataset= MNIST(root='data/', train= False)\n",
    "len(test_dataset)"
   ]
  },
  {
   "cell_type": "code",
   "execution_count": 7,
   "id": "e94d8647",
   "metadata": {},
   "outputs": [
    {
     "data": {
      "text/plain": [
       "(<PIL.Image.Image image mode=L size=28x28 at 0x26CCA26BCD0>, 5)"
      ]
     },
     "execution_count": 7,
     "metadata": {},
     "output_type": "execute_result"
    }
   ],
   "source": [
    "dataset[0]"
   ]
  },
  {
   "cell_type": "code",
   "execution_count": 9,
   "id": "a04cb8f8",
   "metadata": {},
   "outputs": [
    {
     "name": "stdout",
     "output_type": "stream",
     "text": [
      "Collecting matplotlib\n",
      "  Downloading matplotlib-3.5.1-cp39-cp39-win_amd64.whl (7.2 MB)\n",
      "Requirement already satisfied: pillow>=6.2.0 in c:\\users\\anshul\\anaconda3\\envs\\pytorch\\lib\\site-packages (from matplotlib) (8.4.0)\n",
      "Collecting cycler>=0.10\n",
      "  Downloading cycler-0.11.0-py3-none-any.whl (6.4 kB)\n",
      "Collecting fonttools>=4.22.0\n",
      "  Downloading fonttools-4.31.2-py3-none-any.whl (899 kB)\n",
      "Requirement already satisfied: packaging>=20.0 in c:\\users\\anshul\\anaconda3\\envs\\pytorch\\lib\\site-packages (from matplotlib) (21.3)\n",
      "Requirement already satisfied: python-dateutil>=2.7 in c:\\users\\anshul\\anaconda3\\envs\\pytorch\\lib\\site-packages (from matplotlib) (2.8.2)\n",
      "Collecting kiwisolver>=1.0.1\n",
      "  Downloading kiwisolver-1.4.0-cp39-cp39-win_amd64.whl (51 kB)\n",
      "Requirement already satisfied: numpy>=1.17 in c:\\users\\anshul\\anaconda3\\envs\\pytorch\\lib\\site-packages (from matplotlib) (1.21.5)\n",
      "Requirement already satisfied: pyparsing>=2.2.1 in c:\\users\\anshul\\anaconda3\\envs\\pytorch\\lib\\site-packages (from matplotlib) (3.0.4)\n",
      "Requirement already satisfied: six>=1.5 in c:\\users\\anshul\\anaconda3\\envs\\pytorch\\lib\\site-packages (from python-dateutil>=2.7->matplotlib) (1.16.0)\n",
      "Installing collected packages: kiwisolver, fonttools, cycler, matplotlib\n",
      "Successfully installed cycler-0.11.0 fonttools-4.31.2 kiwisolver-1.4.0 matplotlib-3.5.1\n"
     ]
    }
   ],
   "source": [
    "! pip install matplotlib\n"
   ]
  },
  {
   "cell_type": "code",
   "execution_count": 32,
   "id": "8e79814e",
   "metadata": {},
   "outputs": [
    {
     "name": "stdout",
     "output_type": "stream",
     "text": [
      "Requirement already satisfied: torch in c:\\users\\anshul\\anaconda3\\envs\\pytorch\\lib\\site-packages (1.10.2)\n",
      "Collecting torch\n",
      "  Downloading torch-1.11.0-cp39-cp39-win_amd64.whl (157.9 MB)\n",
      "Requirement already satisfied: typing-extensions in c:\\users\\anshul\\anaconda3\\envs\\pytorch\\lib\\site-packages (from torch) (3.10.0.2)\n",
      "Installing collected packages: torch\n",
      "  Attempting uninstall: torch\n",
      "    Found existing installation: torch 1.10.2\n",
      "    Uninstalling torch-1.10.2:\n",
      "      Successfully uninstalled torch-1.10.2\n",
      "Successfully installed torch-1.11.0\n"
     ]
    },
    {
     "name": "stderr",
     "output_type": "stream",
     "text": [
      "ERROR: pip's dependency resolver does not currently take into account all the packages that are installed. This behaviour is the source of the following dependency conflicts.\n",
      "torchvision 0.11.3 requires torch==1.10.2, but you have torch 1.11.0 which is incompatible.\n",
      "torchaudio 0.10.2 requires torch==1.10.2, but you have torch 1.11.0 which is incompatible.\n"
     ]
    }
   ],
   "source": [
    "! pip install torch --upgrade\n"
   ]
  },
  {
   "cell_type": "code",
   "execution_count": 12,
   "id": "b39acac9",
   "metadata": {},
   "outputs": [],
   "source": [
    "import matplotlib.pyplot as plt\n",
    "%matplotlib inline"
   ]
  },
  {
   "cell_type": "code",
   "execution_count": 15,
   "id": "06c3b28f",
   "metadata": {},
   "outputs": [
    {
     "name": "stdout",
     "output_type": "stream",
     "text": [
      "label 5\n"
     ]
    },
    {
     "data": {
      "image/png": "[encoded data removed]",
      "text/plain": [
       "<Figure size 432x288 with 1 Axes>"
      ]
     },
     "metadata": {
      "needs_background": "light"
     },
     "output_type": "display_data"
    }
   ],
   "source": [
    "image, label= dataset[0]\n",
    "plt.imshow(image,cmap= 'gray')\n",
    "print('label' ,label)"
   ]
  },
  {
   "cell_type": "code",
   "execution_count": 16,
   "id": "5ae691f3",
   "metadata": {},
   "outputs": [],
   "source": [
    "import torchvision.transforms as transforms"
   ]
  },
  {
   "cell_type": "code",
   "execution_count": 17,
   "id": "9d1a24ae",
   "metadata": {},
   "outputs": [],
   "source": [
    "dataset= MNIST(root= 'data/', train= True, transform = transforms.ToTensor())"
   ]
  },
  {
   "cell_type": "code",
   "execution_count": 18,
   "id": "b3e7331d",
   "metadata": {},
   "outputs": [
    {
     "name": "stdout",
     "output_type": "stream",
     "text": [
      "torch.Size([1, 28, 28]) 5\n"
     ]
    }
   ],
   "source": [
    "img_tensor , label= dataset[0]\n",
    "\n",
    "print(img_tensor.shape,label)"
   ]
  },
  {
   "cell_type": "code",
   "execution_count": 19,
   "id": "1d747e94",
   "metadata": {},
   "outputs": [
    {
     "name": "stdout",
     "output_type": "stream",
     "text": [
      "tensor([[[0.0039, 0.6039, 0.9922, 0.3529, 0.0000],\n",
      "         [0.0000, 0.5451, 0.9922, 0.7451, 0.0078],\n",
      "         [0.0000, 0.0431, 0.7451, 0.9922, 0.2745],\n",
      "         [0.0000, 0.0000, 0.1373, 0.9451, 0.8824],\n",
      "         [0.0000, 0.0000, 0.0000, 0.3176, 0.9412]]])\n"
     ]
    }
   ],
   "source": [
    "print(img_tensor[:,10:15,10:15])"
   ]
  },
  {
   "cell_type": "code",
   "execution_count": 20,
   "id": "eabf1501",
   "metadata": {},
   "outputs": [
    {
     "name": "stdout",
     "output_type": "stream",
     "text": [
      "tensor(1.) tensor(0.)\n"
     ]
    }
   ],
   "source": [
    "print(torch.max(img_tensor),torch.min(img_tensor))"
   ]
  },
  {
   "cell_type": "code",
   "execution_count": 22,
   "id": "d745e5c3",
   "metadata": {},
   "outputs": [
    {
     "data": {
      "text/plain": [
       "<matplotlib.image.AxesImage at 0x26cd3ec3af0>"
      ]
     },
     "execution_count": 22,
     "metadata": {},
     "output_type": "execute_result"
    },
    {
     "data": {
      "image/png": "[encoded data removed]",
      "text/plain": [
       "<Figure size 432x288 with 1 Axes>"
      ]
     },
     "metadata": {
      "needs_background": "light"
     },
     "output_type": "display_data"
    }
   ],
   "source": [
    "plt.imshow(img_tensor[0,10:15,10:15], cmap='gray')"
   ]
  },
  {
   "cell_type": "code",
   "execution_count": 23,
   "id": "1c88525b",
   "metadata": {},
   "outputs": [],
   "source": [
    "  \n",
    "import numpy as np\n",
    "def split_indices(n , val_pct):\n",
    "    n_val = int(val_pct*n)\n",
    "    idxs= np.random.permutation(n)\n",
    "    \n",
    "    return idxs[n_val:], idxs[:n_val]"
   ]
  },
  {
   "cell_type": "code",
   "execution_count": 25,
   "id": "0ae30025",
   "metadata": {},
   "outputs": [],
   "source": [
    "train_indices, val_indices= split_indices(len(dataset), val_pct=0.2)\n"
   ]
  },
  {
   "cell_type": "code",
   "execution_count": 26,
   "id": "a94bafb5",
   "metadata": {},
   "outputs": [
    {
     "name": "stdout",
     "output_type": "stream",
     "text": [
      "[ 2865 37489 12423 ... 43157 45871 46963] [46411 15525 25731 ... 47180 25490 49934]\n"
     ]
    }
   ],
   "source": [
    "print(train_indices, val_indices)"
   ]
  },
  {
   "cell_type": "code",
   "execution_count": 27,
   "id": "e859581c",
   "metadata": {},
   "outputs": [
    {
     "name": "stdout",
     "output_type": "stream",
     "text": [
      "48000 12000\n"
     ]
    }
   ],
   "source": [
    "print(len(train_indices),len(val_indices))"
   ]
  },
  {
   "cell_type": "code",
   "execution_count": 28,
   "id": "a19db065",
   "metadata": {},
   "outputs": [],
   "source": [
    "from torch.utils.data.sampler import SubsetRandomSampler\n",
    "from torch.utils.data.dataloader import DataLoader"
   ]
  },
  {
   "cell_type": "code",
   "execution_count": 29,
   "id": "130efcf3",
   "metadata": {},
   "outputs": [],
   "source": [
    "batch_size=100\n",
    "train_sampler= SubsetRandomSampler(train_indices)\n",
    "train_loader= DataLoader(dataset, batch_size,sampler= train_sampler)\n",
    "\n",
    "val_sampler= SubsetRandomSampler(val_indices)\n",
    "val_loader= DataLoader(dataset, batch_size,sampler= val_sampler)"
   ]
  },
  {
   "cell_type": "code",
   "execution_count": 30,
   "id": "e5ac303d",
   "metadata": {},
   "outputs": [
    {
     "name": "stdout",
     "output_type": "stream",
     "text": [
      "Collecting jovian\n",
      "  Downloading jovian-0.2.41-py2.py3-none-any.whl (68 kB)\n",
      "Requirement already satisfied: requests in c:\\users\\anshul\\anaconda3\\envs\\pytorch\\lib\\site-packages (from jovian) (2.27.1)\n",
      "Collecting pyyaml\n",
      "  Downloading PyYAML-6.0-cp39-cp39-win_amd64.whl (151 kB)\n",
      "Collecting uuid\n",
      "  Downloading uuid-1.30.tar.gz (5.8 kB)\n",
      "Collecting click\n",
      "  Downloading click-8.0.4-py3-none-any.whl (97 kB)\n",
      "Requirement already satisfied: colorama in c:\\users\\anshul\\anaconda3\\envs\\pytorch\\lib\\site-packages (from click->jovian) (0.4.4)\n",
      "Requirement already satisfied: urllib3<1.27,>=1.21.1 in c:\\users\\anshul\\anaconda3\\envs\\pytorch\\lib\\site-packages (from requests->jovian) (1.26.8)\n",
      "Requirement already satisfied: charset-normalizer~=2.0.0 in c:\\users\\anshul\\anaconda3\\envs\\pytorch\\lib\\site-packages (from requests->jovian) (2.0.12)\n",
      "Requirement already satisfied: idna<4,>=2.5 in c:\\users\\anshul\\anaconda3\\envs\\pytorch\\lib\\site-packages (from requests->jovian) (3.3)\n",
      "Requirement already satisfied: certifi>=2017.4.17 in c:\\users\\anshul\\anaconda3\\envs\\pytorch\\lib\\site-packages (from requests->jovian) (2021.10.8)\n",
      "Building wheels for collected packages: uuid\n",
      "  Building wheel for uuid (setup.py): started\n",
      "  Building wheel for uuid (setup.py): finished with status 'done'\n",
      "  Created wheel for uuid: filename=uuid-1.30-py3-none-any.whl size=6503 sha256=bb50469b3b2e7cb341393062dd3c9a6175d8d4958db4f545fbef6040eca4759d\n",
      "  Stored in directory: c:\\users\\anshul\\appdata\\local\\pip\\cache\\wheels\\05\\d7\\b4\\4795d29c6decfffbf64c63e58b6c8b8bbfd4751488617dcd7a\n",
      "Successfully built uuid\n",
      "Installing collected packages: uuid, pyyaml, click, jovian\n",
      "Successfully installed click-8.0.4 jovian-0.2.41 pyyaml-6.0 uuid-1.30\n"
     ]
    }
   ],
   "source": [
    "! pip install jovian --upgrade\n"
   ]
  },
  {
   "cell_type": "code",
   "execution_count": 34,
   "id": "9a5cd57c",
   "metadata": {},
   "outputs": [
    {
     "data": {
      "application/javascript": [
       "window.require && require([\"base/js/namespace\"],function(Jupyter){Jupyter.notebook.save_checkpoint()})"
      ],
      "text/plain": [
       "<IPython.core.display.Javascript object>"
      ]
     },
     "metadata": {},
     "output_type": "display_data"
    },
    {
     "name": "stdout",
     "output_type": "stream",
     "text": [
      "[jovian] Please enter your API key ( from https://jovian.ai/ ):\u001b[0m\n",
      "API KEY: ········\n",
      "[jovian] Committed successfully! https://jovian.ai/chamoli11/logisticregressionimageclassification\u001b[0m\n"
     ]
    },
    {
     "data": {
      "text/plain": [
       "'https://jovian.ai/chamoli11/logisticregressionimageclassification'"
      ]
     },
     "execution_count": 34,
     "metadata": {},
     "output_type": "execute_result"
    }
   ],
   "source": [
    "import jovian\n",
    "jovian.commit()"
   ]
  },
  {
   "cell_type": "code",
   "execution_count": 62,
   "id": "3a2d4dc9",
   "metadata": {},
   "outputs": [
    {
     "name": "stdout",
     "output_type": "stream",
     "text": [
      "torch.Size([10, 784])\n",
      "Parameter containing:\n",
      "tensor([ 0.0095,  0.0155,  0.0277,  0.0058, -0.0122, -0.0126,  0.0138,  0.0239,\n",
      "         0.0147,  0.0225], requires_grad=True)\n"
     ]
    }
   ],
   "source": [
    "import torch.nn as nn\n",
    "input_size= 28*28\n",
    "num_classes= 10\n",
    "\n",
    "model= nn.Linear(input_size, num_classes)\n",
    "\n",
    "print(model.weight.shape)\n",
    "print(model.bias)"
   ]
  },
  {
   "cell_type": "code",
   "execution_count": 39,
   "id": "88beb327",
   "metadata": {},
   "outputs": [
    {
     "name": "stdout",
     "output_type": "stream",
     "text": [
      "tensor([8, 3, 7, 1, 4, 6, 8, 9, 9, 7, 5, 4, 9, 6, 9, 8, 1, 0, 8, 2, 4, 5, 8, 3,\n",
      "        4, 6, 8, 9, 0, 8, 4, 4, 2, 3, 2, 7, 8, 7, 4, 3, 7, 8, 7, 3, 1, 5, 7, 6,\n",
      "        8, 4, 0, 3, 4, 4, 5, 9, 6, 3, 7, 9, 8, 6, 6, 1, 5, 7, 9, 8, 3, 5, 4, 9,\n",
      "        3, 0, 5, 6, 8, 4, 9, 9, 9, 0, 7, 5, 0, 4, 1, 3, 9, 9, 6, 6, 5, 0, 3, 1,\n",
      "        6, 8, 1, 8])\n",
      "torch.Size([100, 1, 28, 28])\n"
     ]
    },
    {
     "ename": "RuntimeError",
     "evalue": "mat1 and mat2 shapes cannot be multiplied (2800x28 and 784x10)",
     "output_type": "error",
     "traceback": [
      "\u001b[1;31m---------------------------------------------------------------------------\u001b[0m",
      "\u001b[1;31mRuntimeError\u001b[0m                              Traceback (most recent call last)",
      "\u001b[1;32m~\\AppData\\Local\\Temp/ipykernel_41768/1931588848.py\u001b[0m in \u001b[0;36m<module>\u001b[1;34m\u001b[0m\n\u001b[0;32m      2\u001b[0m     \u001b[0mprint\u001b[0m\u001b[1;33m(\u001b[0m\u001b[0mlabels\u001b[0m\u001b[1;33m)\u001b[0m\u001b[1;33m\u001b[0m\u001b[1;33m\u001b[0m\u001b[0m\n\u001b[0;32m      3\u001b[0m     \u001b[0mprint\u001b[0m\u001b[1;33m(\u001b[0m\u001b[0mimages\u001b[0m\u001b[1;33m.\u001b[0m\u001b[0mshape\u001b[0m\u001b[1;33m)\u001b[0m\u001b[1;33m\u001b[0m\u001b[1;33m\u001b[0m\u001b[0m\n\u001b[1;32m----> 4\u001b[1;33m     \u001b[0moutputs\u001b[0m\u001b[1;33m=\u001b[0m \u001b[0mmodel\u001b[0m\u001b[1;33m(\u001b[0m\u001b[0mimages\u001b[0m\u001b[1;33m)\u001b[0m\u001b[1;33m\u001b[0m\u001b[1;33m\u001b[0m\u001b[0m\n\u001b[0m\u001b[0;32m      5\u001b[0m     \u001b[1;32mbreak\u001b[0m\u001b[1;33m\u001b[0m\u001b[1;33m\u001b[0m\u001b[0m\n",
      "\u001b[1;32m~\\anaconda3\\envs\\pytorch\\lib\\site-packages\\torch\\nn\\modules\\module.py\u001b[0m in \u001b[0;36m_call_impl\u001b[1;34m(self, *input, **kwargs)\u001b[0m\n\u001b[0;32m   1100\u001b[0m             \u001b[1;32mif\u001b[0m \u001b[0mrecording_scopes\u001b[0m\u001b[1;33m:\u001b[0m\u001b[1;33m\u001b[0m\u001b[1;33m\u001b[0m\u001b[0m\n\u001b[0;32m   1101\u001b[0m                 \u001b[0mtracing_state\u001b[0m\u001b[1;33m.\u001b[0m\u001b[0mpop_scope\u001b[0m\u001b[1;33m(\u001b[0m\u001b[1;33m)\u001b[0m\u001b[1;33m\u001b[0m\u001b[1;33m\u001b[0m\u001b[0m\n\u001b[1;32m-> 1102\u001b[1;33m         \u001b[1;32mreturn\u001b[0m \u001b[0mresult\u001b[0m\u001b[1;33m\u001b[0m\u001b[1;33m\u001b[0m\u001b[0m\n\u001b[0m\u001b[0;32m   1103\u001b[0m \u001b[1;33m\u001b[0m\u001b[0m\n\u001b[0;32m   1104\u001b[0m     \u001b[1;32mdef\u001b[0m \u001b[0m_call_impl\u001b[0m\u001b[1;33m(\u001b[0m\u001b[0mself\u001b[0m\u001b[1;33m,\u001b[0m \u001b[1;33m*\u001b[0m\u001b[0minput\u001b[0m\u001b[1;33m,\u001b[0m \u001b[1;33m**\u001b[0m\u001b[0mkwargs\u001b[0m\u001b[1;33m)\u001b[0m\u001b[1;33m:\u001b[0m\u001b[1;33m\u001b[0m\u001b[1;33m\u001b[0m\u001b[0m\n",
      "\u001b[1;32m~\\anaconda3\\envs\\pytorch\\lib\\site-packages\\torch\\nn\\modules\\linear.py\u001b[0m in \u001b[0;36mforward\u001b[1;34m(self, input)\u001b[0m\n\u001b[0;32m    101\u001b[0m \u001b[1;33m\u001b[0m\u001b[0m\n\u001b[0;32m    102\u001b[0m     \u001b[1;32mdef\u001b[0m \u001b[0mforward\u001b[0m\u001b[1;33m(\u001b[0m\u001b[0mself\u001b[0m\u001b[1;33m,\u001b[0m \u001b[0minput\u001b[0m\u001b[1;33m:\u001b[0m \u001b[0mTensor\u001b[0m\u001b[1;33m)\u001b[0m \u001b[1;33m->\u001b[0m \u001b[0mTensor\u001b[0m\u001b[1;33m:\u001b[0m\u001b[1;33m\u001b[0m\u001b[1;33m\u001b[0m\u001b[0m\n\u001b[1;32m--> 103\u001b[1;33m         \u001b[1;32mreturn\u001b[0m \u001b[0mF\u001b[0m\u001b[1;33m.\u001b[0m\u001b[0mlinear\u001b[0m\u001b[1;33m(\u001b[0m\u001b[0minput\u001b[0m\u001b[1;33m,\u001b[0m \u001b[0mself\u001b[0m\u001b[1;33m.\u001b[0m\u001b[0mweight\u001b[0m\u001b[1;33m,\u001b[0m \u001b[0mself\u001b[0m\u001b[1;33m.\u001b[0m\u001b[0mbias\u001b[0m\u001b[1;33m)\u001b[0m\u001b[1;33m\u001b[0m\u001b[1;33m\u001b[0m\u001b[0m\n\u001b[0m\u001b[0;32m    104\u001b[0m \u001b[1;33m\u001b[0m\u001b[0m\n\u001b[0;32m    105\u001b[0m     \u001b[1;32mdef\u001b[0m \u001b[0mextra_repr\u001b[0m\u001b[1;33m(\u001b[0m\u001b[0mself\u001b[0m\u001b[1;33m)\u001b[0m \u001b[1;33m->\u001b[0m \u001b[0mstr\u001b[0m\u001b[1;33m:\u001b[0m\u001b[1;33m\u001b[0m\u001b[1;33m\u001b[0m\u001b[0m\n",
      "\u001b[1;32m~\\anaconda3\\envs\\pytorch\\lib\\site-packages\\torch\\nn\\functional.py\u001b[0m in \u001b[0;36mlinear\u001b[1;34m(input, weight, bias)\u001b[0m\n\u001b[0;32m   1846\u001b[0m       \u001b[0mIt\u001b[0m \u001b[0machieves\u001b[0m \u001b[0mtwo\u001b[0m \u001b[0mthings\u001b[0m\u001b[1;33m:\u001b[0m\u001b[1;33m\u001b[0m\u001b[1;33m\u001b[0m\u001b[0m\n\u001b[0;32m   1847\u001b[0m       \u001b[1;33m-\u001b[0m \u001b[0mmakes\u001b[0m \u001b[0mthe\u001b[0m \u001b[0moutput\u001b[0m \u001b[0mvalue\u001b[0m \u001b[0mexactly\u001b[0m \u001b[0mone\u001b[0m\u001b[1;33m-\u001b[0m\u001b[0mhot\u001b[0m\u001b[1;33m\u001b[0m\u001b[1;33m\u001b[0m\u001b[0m\n\u001b[1;32m-> 1848\u001b[1;33m       \u001b[1;33m(\u001b[0m\u001b[0msince\u001b[0m \u001b[0mwe\u001b[0m \u001b[0madd\u001b[0m \u001b[0mthen\u001b[0m \u001b[0msubtract\u001b[0m \u001b[0my_soft\u001b[0m \u001b[0mvalue\u001b[0m\u001b[1;33m)\u001b[0m\u001b[1;33m\u001b[0m\u001b[1;33m\u001b[0m\u001b[0m\n\u001b[0m\u001b[0;32m   1849\u001b[0m       \u001b[1;33m-\u001b[0m \u001b[0mmakes\u001b[0m \u001b[0mthe\u001b[0m \u001b[0mgradient\u001b[0m \u001b[0mequal\u001b[0m \u001b[0mto\u001b[0m \u001b[0my_soft\u001b[0m \u001b[0mgradient\u001b[0m\u001b[1;33m\u001b[0m\u001b[1;33m\u001b[0m\u001b[0m\n\u001b[0;32m   1850\u001b[0m       \u001b[1;33m(\u001b[0m\u001b[0msince\u001b[0m \u001b[0mwe\u001b[0m \u001b[0mstrip\u001b[0m \u001b[0mall\u001b[0m \u001b[0mother\u001b[0m \u001b[0mgradients\u001b[0m\u001b[1;33m)\u001b[0m\u001b[1;33m\u001b[0m\u001b[1;33m\u001b[0m\u001b[0m\n",
      "\u001b[1;31mRuntimeError\u001b[0m: mat1 and mat2 shapes cannot be multiplied (2800x28 and 784x10)"
     ]
    }
   ],
   "source": [
    "# for images , labels in train_loader:\n",
    "#     print(labels)\n",
    "#     print(images.shape)\n",
    "#     outputs= model(images)\n",
    "#     break"
   ]
  },
  {
   "cell_type": "code",
   "execution_count": 64,
   "id": "0349ecb9",
   "metadata": {},
   "outputs": [],
   "source": [
    "class Mnistmodel(nn.Module):\n",
    "    def __init__(self):\n",
    "        super().__init__()\n",
    "        self.linear= nn.Linear(input_size, num_classes)\n",
    "        \n",
    "    def forward(self,xb):\n",
    "        xb= xb.reshape(-1,784)\n",
    "        out= self.linear(xb)\n",
    "        return(out)\n",
    "model= Mnistmodel()"
   ]
  },
  {
   "cell_type": "code",
   "execution_count": 67,
   "id": "a9acab94",
   "metadata": {},
   "outputs": [],
   "source": [
    "\n",
    "for images, labels in train_loader:\n",
    "    outputs= model(images)\n",
    "    break\n"
   ]
  },
  {
   "cell_type": "code",
   "execution_count": 73,
   "id": "ea900f99",
   "metadata": {},
   "outputs": [
    {
     "name": "stdout",
     "output_type": "stream",
     "text": [
      "torch.Size([10, 784]) torch.Size([10])\n"
     ]
    },
    {
     "data": {
      "text/plain": [
       "[Parameter containing:\n",
       " tensor([[-0.0095, -0.0321,  0.0111,  ...,  0.0180, -0.0255,  0.0124],\n",
       "         [ 0.0318, -0.0022, -0.0002,  ...,  0.0035,  0.0146,  0.0154],\n",
       "         [-0.0043, -0.0180, -0.0065,  ..., -0.0334, -0.0211, -0.0146],\n",
       "         ...,\n",
       "         [ 0.0094,  0.0169,  0.0246,  ...,  0.0022,  0.0172,  0.0096],\n",
       "         [-0.0256,  0.0320,  0.0200,  ..., -0.0228, -0.0270, -0.0300],\n",
       "         [-0.0165,  0.0081, -0.0279,  ...,  0.0180, -0.0090, -0.0278]],\n",
       "        requires_grad=True),\n",
       " Parameter containing:\n",
       " tensor([ 0.0111,  0.0111, -0.0272, -0.0090,  0.0223, -0.0286, -0.0087, -0.0322,\n",
       "         -0.0018, -0.0149], requires_grad=True)]"
      ]
     },
     "execution_count": 73,
     "metadata": {},
     "output_type": "execute_result"
    }
   ],
   "source": [
    "print(model.linear.weight.shape,model.linear.bias.shape)\n",
    "list(model.parameters())"
   ]
  },
  {
   "cell_type": "code",
   "execution_count": 55,
   "id": "ff7d5667",
   "metadata": {},
   "outputs": [],
   "source": [
    "import torch.nn.functional as f"
   ]
  },
  {
   "cell_type": "code",
   "execution_count": 56,
   "id": "28791ff7",
   "metadata": {},
   "outputs": [],
   "source": [
    "probs = f.softmax(outputs, dim= 1)"
   ]
  },
  {
   "cell_type": "code",
   "execution_count": 57,
   "id": "3577cfc3",
   "metadata": {},
   "outputs": [
    {
     "name": "stdout",
     "output_type": "stream",
     "text": [
      "tensor([[0.1103, 0.0940, 0.1191, 0.0849, 0.0977, 0.1114, 0.0956, 0.1091, 0.0774,\n",
      "         0.1005],\n",
      "        [0.1518, 0.1267, 0.1114, 0.1193, 0.0838, 0.0816, 0.0570, 0.0855, 0.0706,\n",
      "         0.1123]])\n",
      "1.0000001192092896\n"
     ]
    }
   ],
   "source": [
    "print(probs[:2].data)\n",
    "print(torch.sum(probs[0]).item())"
   ]
  },
  {
   "cell_type": "code",
   "execution_count": 60,
   "id": "9fa557c1",
   "metadata": {},
   "outputs": [
    {
     "name": "stdout",
     "output_type": "stream",
     "text": [
      "tensor([2, 0, 0, 1, 1, 5, 0, 1, 0, 4, 0, 1, 0, 1, 4, 0, 0, 0, 4, 0, 0, 4, 0, 0,\n",
      "        5, 5, 1, 1, 7, 4, 4, 4, 0, 4, 9, 1, 0, 0, 0, 0, 0, 0, 0, 0, 0, 0, 2, 3,\n",
      "        0, 4, 4, 0, 0, 0, 0, 0, 4, 0, 1, 0, 0, 4, 4, 0, 5, 3, 2, 4, 1, 1, 0, 0,\n",
      "        0, 0, 0, 1, 0, 4, 0, 0, 0, 4, 7, 0, 4, 2, 4, 1, 5, 0, 0, 0, 0, 4, 0, 4,\n",
      "        0, 0, 4, 1])\n"
     ]
    }
   ],
   "source": [
    "max_probs, preds = torch.max(probs, dim=1)\n",
    "print(preds)\n"
   ]
  },
  {
   "cell_type": "code",
   "execution_count": 59,
   "id": "9eef1ca0",
   "metadata": {},
   "outputs": [
    {
     "data": {
      "text/plain": [
       "tensor([1, 5, 7, 5, 4, 1, 3, 4, 7, 1, 3, 4, 0, 4, 9, 1, 5, 2, 6, 2, 3, 8, 7, 3,\n",
       "        5, 5, 6, 9, 2, 2, 8, 6, 4, 2, 5, 2, 3, 3, 7, 1, 9, 5, 0, 8, 0, 8, 8, 0,\n",
       "        5, 8, 7, 0, 9, 7, 7, 2, 2, 1, 2, 9, 9, 2, 6, 5, 1, 3, 7, 8, 3, 3, 8, 4,\n",
       "        3, 9, 3, 3, 9, 1, 0, 0, 5, 6, 5, 7, 6, 7, 6, 4, 8, 7, 0, 5, 9, 1, 3, 1,\n",
       "        9, 7, 2, 5])"
      ]
     },
     "execution_count": 59,
     "metadata": {},
     "output_type": "execute_result"
    }
   ],
   "source": [
    "labels"
   ]
  },
  {
   "cell_type": "code",
   "execution_count": 74,
   "id": "d5680350",
   "metadata": {},
   "outputs": [
    {
     "data": {
      "application/javascript": [
       "window.require && require([\"base/js/namespace\"],function(Jupyter){Jupyter.notebook.save_checkpoint()})"
      ],
      "text/plain": [
       "<IPython.core.display.Javascript object>"
      ]
     },
     "metadata": {},
     "output_type": "display_data"
    },
    {
     "name": "stdout",
     "output_type": "stream",
     "text": [
      "[jovian] Updating notebook \"chamoli11/logisticregressionimageclassification\" on https://jovian.ai/\u001b[0m\n",
      "[jovian] Committed successfully! https://jovian.ai/chamoli11/logisticregressionimageclassification\u001b[0m\n"
     ]
    },
    {
     "data": {
      "text/plain": [
       "'https://jovian.ai/chamoli11/logisticregressionimageclassification'"
      ]
     },
     "execution_count": 74,
     "metadata": {},
     "output_type": "execute_result"
    }
   ],
   "source": [
    "jovian.commit()"
   ]
  },
  {
   "cell_type": "code",
   "execution_count": 84,
   "id": "01f175c6",
   "metadata": {},
   "outputs": [],
   "source": [
    " def accuracy(l1, l2):\n",
    "        return torch.sum(l1==l2).item()/len(l1)"
   ]
  },
  {
   "cell_type": "code",
   "execution_count": null,
   "id": "033d0c47",
   "metadata": {},
   "outputs": [],
   "source": []
  },
  {
   "cell_type": "code",
   "execution_count": 85,
   "id": "e6fe4d25",
   "metadata": {},
   "outputs": [
    {
     "data": {
      "text/plain": [
       "0.11"
      ]
     },
     "execution_count": 85,
     "metadata": {},
     "output_type": "execute_result"
    }
   ],
   "source": [
    "accuracy(labels,preds)"
   ]
  },
  {
   "cell_type": "code",
   "execution_count": 87,
   "id": "45555af4",
   "metadata": {},
   "outputs": [
    {
     "name": "stdout",
     "output_type": "stream",
     "text": [
      "tensor(2.2861, grad_fn=<NllLossBackward0>)\n"
     ]
    }
   ],
   "source": [
    "loss_fn = f.cross_entropy\n",
    "loss= loss_fn(outputs, labels)\n",
    "print(loss)"
   ]
  },
  {
   "cell_type": "code",
   "execution_count": 89,
   "id": "650e1662",
   "metadata": {},
   "outputs": [],
   "source": [
    "learning_rate= 0.001\n",
    "optimizer= torch.optim.SGD(model.parameters(), lr= learning_rate)"
   ]
  },
  {
   "cell_type": "code",
   "execution_count": 96,
   "id": "5efa0fe4",
   "metadata": {},
   "outputs": [],
   "source": [
    "def loss_batch(model, loss_func,xb,yb, opt=None, metric= None):\n",
    "    preds= model(xb)\n",
    "    loss= loss_func(preds,yb)\n",
    "    if opt is not None:\n",
    "        loss.backward()\n",
    "        opt.step()\n",
    "        opt.zero_grad()\n",
    "    metric_result= None\n",
    "    if metric is not None:\n",
    "        metric_result= metric(preds, yb)\n",
    "        \n",
    "    return loss.item(), len(xb), metric_result"
   ]
  },
  {
   "cell_type": "code",
   "execution_count": 97,
   "id": "1dd00f98",
   "metadata": {},
   "outputs": [],
   "source": [
    "def evaluate(model, loss_fn, valid_dl, metric= None):\n",
    "    with torch.no_grad():\n",
    "        results= [loss_batch(model,loss_fn,xb,yb,metric= metric)\n",
    "                  for xb,yb in valid_dl]\n",
    "        losses, nums, metrics= zip(*results)\n",
    "        total = np.sum(nums)\n",
    "        avg_loss= np.sum(np.multiply(losses,nums))/total\n",
    "        avg_metric = None\n",
    "        if metric is not None:\n",
    "            avg_metric = np.sum(np.multiply(metrics,nums))/total\n",
    "    return avg_loss, total ,avg_metric"
   ]
  },
  {
   "cell_type": "code",
   "execution_count": 98,
   "id": "f896f90f",
   "metadata": {},
   "outputs": [
    {
     "name": "stdout",
     "output_type": "stream",
     "text": [
      "2.2798072417577107 0.126\n"
     ]
    }
   ],
   "source": [
    "def accuracy(outputs, labels):\n",
    "    _, preds= torch.max(outputs, dim= 1)\n",
    "    return torch.sum(preds== labels).item()/ len(preds)\n",
    "\n",
    "val_loss, total, val_acc= evaluate(model, loss_fn, val_loader, metric= accuracy)\n",
    "print( val_loss, val_acc)\n",
    "    "
   ]
  },
  {
   "cell_type": "code",
   "execution_count": 103,
   "id": "b304e25e",
   "metadata": {},
   "outputs": [],
   "source": [
    "def fit(epochs, model, loss_func,opt, train_dl,valid_dl , metric= None):\n",
    "    for epoch in range(epochs):\n",
    "        for xb, yb in train_dl:\n",
    "            loss,_,_= loss_batch(model,loss_fn, xb,yb,opt)\n",
    "            \n",
    "        result= evaluate(model,loss_fn, valid_dl, metric)\n",
    "        val_loss, total, val_acc= result\n",
    "        \n",
    "        if metric is None:\n",
    "            print('epoch[{}/{}], loss: {:.4f}'.format(epoch+1, epochs,val_loss))\n",
    "        else:\n",
    "            print('epoch[{}/{}], loss: {:.4f}, {} :{:.4f}'.format(epoch+1, epochs,val_loss,metric.__name__,val_acc))\n",
    "            \n",
    "        \n"
   ]
  },
  {
   "cell_type": "code",
   "execution_count": 104,
   "id": "9e139222",
   "metadata": {},
   "outputs": [
    {
     "name": "stdout",
     "output_type": "stream",
     "text": [
      "epoch[1/5], loss: 1.8974, accuracy :0.6518\n",
      "epoch[2/5], loss: 1.5905, accuracy :0.7405\n",
      "epoch[3/5], loss: 1.3757, accuracy :0.7778\n",
      "epoch[4/5], loss: 1.2215, accuracy :0.7991\n",
      "epoch[5/5], loss: 1.1073, accuracy :0.8135\n"
     ]
    }
   ],
   "source": [
    "model= Mnistmodel()\n",
    "optimizer= torch.optim.SGD(model.parameters(), lr= learning_rate)\n",
    "fit(5, model, f.cross_entropy, optimizer, train_loader, val_loader, accuracy)"
   ]
  },
  {
   "cell_type": "code",
   "execution_count": 105,
   "id": "5664cf68",
   "metadata": {},
   "outputs": [
    {
     "name": "stdout",
     "output_type": "stream",
     "text": [
      "epoch[1/5], loss: 1.0199, accuracy :0.8213\n",
      "epoch[2/5], loss: 0.9511, accuracy :0.8295\n",
      "epoch[3/5], loss: 0.8957, accuracy :0.8347\n",
      "epoch[4/5], loss: 0.8500, accuracy :0.8376\n",
      "epoch[5/5], loss: 0.8117, accuracy :0.8407\n",
      "epoch[1/5], loss: 0.7790, accuracy :0.8435\n",
      "epoch[2/5], loss: 0.7508, accuracy :0.8472\n",
      "epoch[3/5], loss: 0.7264, accuracy :0.8495\n",
      "epoch[4/5], loss: 0.7048, accuracy :0.8527\n",
      "epoch[5/5], loss: 0.6856, accuracy :0.8547\n",
      "epoch[1/5], loss: 0.6684, accuracy :0.8568\n",
      "epoch[2/5], loss: 0.6529, accuracy :0.8588\n",
      "epoch[3/5], loss: 0.6389, accuracy :0.8604\n",
      "epoch[4/5], loss: 0.6262, accuracy :0.8630\n",
      "epoch[5/5], loss: 0.6145, accuracy :0.8644\n"
     ]
    }
   ],
   "source": [
    "fit(5, model, f.cross_entropy, optimizer, train_loader, val_loader, accuracy)\n",
    "fit(5, model, f.cross_entropy, optimizer, train_loader, val_loader, accuracy)\n",
    "fit(5, model, f.cross_entropy, optimizer, train_loader, val_loader, accuracy)"
   ]
  },
  {
   "cell_type": "code",
   "execution_count": 106,
   "id": "a0c77018",
   "metadata": {},
   "outputs": [
    {
     "data": {
      "text/plain": [
       "Text(0.5, 1.0, 'accuracy vs no of epoch')"
      ]
     },
     "execution_count": 106,
     "metadata": {},
     "output_type": "execute_result"
    },
    {
     "data": {
      "image/png": "[encoded data removed]",
      "text/plain": [
       "<Figure size 432x288 with 1 Axes>"
      ]
     },
     "metadata": {
      "needs_background": "light"
     },
     "output_type": "display_data"
    }
   ],
   "source": [
    "accuracies= [0.6518, 0.7049,0.7778,0.7991,0.8135,0.8213,0.8295,0.8347,0.8376,0.8407,0.8435,0.8472,0.8495,0.8527,0.8547,0.8568,0.8588,0.8604,0.8630,0.8644]\n",
    "plt.plot(accuracies,'-x')\n",
    "plt.xlabel('epoch')\n",
    "plt.ylabel('accuracy')\n",
    "plt.title('accuracy vs no of epoch')"
   ]
  },
  {
   "cell_type": "code",
   "execution_count": 108,
   "id": "88e453d4",
   "metadata": {},
   "outputs": [
    {
     "name": "stdout",
     "output_type": "stream",
     "text": [
      "[jovian] Hyperparams logged.\u001b[0m\n"
     ]
    }
   ],
   "source": [
    "import jovian\n",
    "jovian.log_hyperparams({\n",
    "    'opt':'SGD',\n",
    "    'lr': 0.001,\n",
    "    'batch_size': 100,\n",
    "    'arch': 'logistic-regression'\n",
    "})"
   ]
  },
  {
   "cell_type": "code",
   "execution_count": 109,
   "id": "05a916c3",
   "metadata": {},
   "outputs": [
    {
     "name": "stdout",
     "output_type": "stream",
     "text": [
      "[jovian] Metrics logged.\u001b[0m\n"
     ]
    }
   ],
   "source": [
    "jovian.log_metrics({\n",
    "    'val_loss':0.6145,\n",
    "    'val_acc': 0.8644\n",
    "})"
   ]
  },
  {
   "cell_type": "code",
   "execution_count": 110,
   "id": "fd4d08ca",
   "metadata": {},
   "outputs": [],
   "source": [
    "test_dataset= MNIST(root='data/',\n",
    "                   train= False,\n",
    "                   transform= transforms.ToTensor())\n"
   ]
  },
  {
   "cell_type": "code",
   "execution_count": 111,
   "id": "dbcb8726",
   "metadata": {},
   "outputs": [
    {
     "name": "stdout",
     "output_type": "stream",
     "text": [
      "shape: torch.Size([1, 28, 28])\n",
      "label: 7\n"
     ]
    },
    {
     "data": {
      "image/png": "[encoded data removed]",
      "text/plain": [
       "<Figure size 432x288 with 1 Axes>"
      ]
     },
     "metadata": {
      "needs_background": "light"
     },
     "output_type": "display_data"
    }
   ],
   "source": [
    "img, label= test_dataset[0]\n",
    "plt.imshow(img[0], cmap='gray')\n",
    "print('shape:', img.shape)\n",
    "print('label:', label)"
   ]
  },
  {
   "cell_type": "code",
   "execution_count": 112,
   "id": "5c15c2be",
   "metadata": {},
   "outputs": [
    {
     "data": {
      "text/plain": [
       "torch.Size([1, 1, 28, 28])"
      ]
     },
     "execution_count": 112,
     "metadata": {},
     "output_type": "execute_result"
    }
   ],
   "source": [
    "img.unsqueeze(0).shape"
   ]
  },
  {
   "cell_type": "code",
   "execution_count": 114,
   "id": "0be3350c",
   "metadata": {},
   "outputs": [],
   "source": [
    "def predict_image(img,model):\n",
    "    xb= img.unsqueeze(0)\n",
    "    yb= model(xb)\n",
    "    _, preds= torch.max(yb, dim=1)\n",
    "    return preds[0].item()"
   ]
  },
  {
   "cell_type": "code",
   "execution_count": 115,
   "id": "9c3e6ef8",
   "metadata": {},
   "outputs": [
    {
     "name": "stdout",
     "output_type": "stream",
     "text": [
      "label: 7 predicted: 7\n"
     ]
    }
   ],
   "source": [
    "img, label= test_dataset[0]\n",
    "print('label:', label, 'predicted:',predict_image(img,model) )"
   ]
  },
  {
   "cell_type": "code",
   "execution_count": 116,
   "id": "15d2681a",
   "metadata": {},
   "outputs": [
    {
     "name": "stdout",
     "output_type": "stream",
     "text": [
      "label: 0 predicted: 0\n"
     ]
    }
   ],
   "source": [
    "img, label= test_dataset[10]\n",
    "print('label:', label, 'predicted:',predict_image(img,model) )"
   ]
  },
  {
   "cell_type": "code",
   "execution_count": 117,
   "id": "2145c7db",
   "metadata": {},
   "outputs": [
    {
     "name": "stdout",
     "output_type": "stream",
     "text": [
      "label: 2 predicted: 8\n"
     ]
    }
   ],
   "source": [
    "img, label= test_dataset[1839]\n",
    "print('label:', label, 'predicted:',predict_image(img,model) )"
   ]
  },
  {
   "cell_type": "code",
   "execution_count": 118,
   "id": "15249076",
   "metadata": {},
   "outputs": [
    {
     "name": "stdout",
     "output_type": "stream",
     "text": [
      "label: 9 predicted: 9\n"
     ]
    }
   ],
   "source": [
    "img, label= test_dataset[193]\n",
    "print('label:', label, 'predicted:',predict_image(img,model) )"
   ]
  },
  {
   "cell_type": "code",
   "execution_count": 121,
   "id": "435798ef",
   "metadata": {},
   "outputs": [
    {
     "data": {
      "text/plain": [
       "OrderedDict([('linear.weight',\n",
       "              tensor([[-0.0080, -0.0107, -0.0314,  ..., -0.0294, -0.0299,  0.0080],\n",
       "                      [ 0.0302, -0.0012,  0.0057,  ...,  0.0007, -0.0231, -0.0218],\n",
       "                      [-0.0088,  0.0146,  0.0243,  ..., -0.0173,  0.0319,  0.0086],\n",
       "                      ...,\n",
       "                      [-0.0315,  0.0118, -0.0251,  ..., -0.0195, -0.0034,  0.0022],\n",
       "                      [ 0.0325, -0.0242,  0.0019,  ..., -0.0354, -0.0192,  0.0265],\n",
       "                      [ 0.0304, -0.0296, -0.0268,  ..., -0.0126,  0.0045, -0.0321]])),\n",
       "             ('linear.bias',\n",
       "              tensor([-0.0565,  0.1270, -0.0076, -0.0126,  0.0106,  0.0766, -0.0243,  0.0808,\n",
       "                      -0.1336,  0.0011]))])"
      ]
     },
     "execution_count": 121,
     "metadata": {},
     "output_type": "execute_result"
    }
   ],
   "source": [
    "torch.save(model.state_dict(), 'mnist_logictic.pth')\n",
    "model.state_dict()"
   ]
  },
  {
   "cell_type": "code",
   "execution_count": 122,
   "id": "a1520203",
   "metadata": {},
   "outputs": [
    {
     "data": {
      "text/plain": [
       "OrderedDict([('linear.weight',\n",
       "              tensor([[-0.0080, -0.0107, -0.0314,  ..., -0.0294, -0.0299,  0.0080],\n",
       "                      [ 0.0302, -0.0012,  0.0057,  ...,  0.0007, -0.0231, -0.0218],\n",
       "                      [-0.0088,  0.0146,  0.0243,  ..., -0.0173,  0.0319,  0.0086],\n",
       "                      ...,\n",
       "                      [-0.0315,  0.0118, -0.0251,  ..., -0.0195, -0.0034,  0.0022],\n",
       "                      [ 0.0325, -0.0242,  0.0019,  ..., -0.0354, -0.0192,  0.0265],\n",
       "                      [ 0.0304, -0.0296, -0.0268,  ..., -0.0126,  0.0045, -0.0321]])),\n",
       "             ('linear.bias',\n",
       "              tensor([-0.0565,  0.1270, -0.0076, -0.0126,  0.0106,  0.0766, -0.0243,  0.0808,\n",
       "                      -0.1336,  0.0011]))])"
      ]
     },
     "execution_count": 122,
     "metadata": {},
     "output_type": "execute_result"
    }
   ],
   "source": [
    "model2= Mnistmodel()\n",
    "model2.load_state_dict(torch.load('mnist_logictic.pth'))\n",
    "model2.state_dict()"
   ]
  },
  {
   "cell_type": "code",
   "execution_count": 123,
   "id": "6948fa8b",
   "metadata": {},
   "outputs": [
    {
     "name": "stderr",
     "output_type": "stream",
     "text": [
      "\u001b[31m[jovian] Error: \"artifacts\" is deprecated. Use \"outputs\" instead\u001b[0m\n"
     ]
    },
    {
     "data": {
      "application/javascript": [
       "window.require && require([\"base/js/namespace\"],function(Jupyter){Jupyter.notebook.save_checkpoint()})"
      ],
      "text/plain": [
       "<IPython.core.display.Javascript object>"
      ]
     },
     "metadata": {},
     "output_type": "display_data"
    },
    {
     "name": "stdout",
     "output_type": "stream",
     "text": [
      "[jovian] Updating notebook \"chamoli11/logisticregressionimageclassification\" on https://jovian.ai/\u001b[0m\n",
      "[jovian] Uploading additional outputs...\u001b[0m\n",
      "[jovian] Attaching records (metrics, hyperparameters, dataset etc.)\u001b[0m\n",
      "[jovian] Committed successfully! https://jovian.ai/chamoli11/logisticregressionimageclassification\u001b[0m\n"
     ]
    },
    {
     "data": {
      "text/plain": [
       "'https://jovian.ai/chamoli11/logisticregressionimageclassification'"
      ]
     },
     "execution_count": 123,
     "metadata": {},
     "output_type": "execute_result"
    }
   ],
   "source": [
    "jovian.commit(artifacts= ['mnist_logictic.pth'])"
   ]
  },
  {
   "cell_type": "code",
   "execution_count": null,
   "id": "1f717028",
   "metadata": {},
   "outputs": [],
   "source": []
  }
 ],
 "metadata": {
  "kernelspec": {
   "display_name": "Python 3 (ipykernel)",
   "language": "python",
   "name": "python3"
  },
  "language_info": {
   "codemirror_mode": {
    "name": "ipython",
    "version": 3
   },
   "file_extension": ".py",
   "mimetype": "text/x-python",
   "name": "python",
   "nbconvert_exporter": "python",
   "pygments_lexer": "ipython3",
   "version": "3.9.7"
  }
 },
 "nbformat": 4,
 "nbformat_minor": 5
}
